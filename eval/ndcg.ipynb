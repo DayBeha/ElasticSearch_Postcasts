{
 "cells": [
  {
   "cell_type": "code",
   "execution_count": 2,
   "id": "5043b83c",
   "metadata": {},
   "outputs": [],
   "source": [
    "import numpy as np"
   ]
  },
  {
   "cell_type": "code",
   "execution_count": 14,
   "id": "1ce3b642",
   "metadata": {},
   "outputs": [
    {
     "name": "stdout",
     "output_type": "stream",
     "text": [
      "ndcg@1 = 0.6667\n",
      "ndcg@2 = 0.6667\n",
      "ndcg@3 = 0.5885\n",
      "ndcg@4 = 0.6576\n",
      "ndcg@5 = 0.7026\n",
      "ndcg@6 = 0.6987\n",
      "ndcg@7 = 0.7492\n",
      "ndcg@8 = 0.7633\n",
      "ndcg@9 = 0.7754\n",
      "ndcg@10 = 0.7858\n",
      "ndcg@11 = 0.7735\n",
      "ndcg@12 = 0.7626\n",
      "ndcg@13 = 0.7715\n",
      "ndcg@14 = 0.7971\n",
      "ndcg@15 = 0.8205\n",
      "ndcg@16 = 0.8104\n",
      "ndcg@17 = 0.8285\n",
      "ndcg@18 = 0.8458\n",
      "ndcg@19 = 0.8622\n",
      "ndcg@20 = 0.8918\n"
     ]
    }
   ],
   "source": [
    "filename = \"higgs_boson_eval.txt\"\n",
    "rel = []\n",
    "\n",
    "with open(filename, \"r\") as f:\n",
    "    lines = f.readlines()\n",
    "    for line in lines:\n",
    "        rel.append(int(line.split()[0]))\n",
    "        \n",
    "ideal_rel = sorted(rel, reverse=True)       \n",
    "\n",
    "dcg = []\n",
    "for i in range(len(rel)):\n",
    "    if i == 0:\n",
    "        dcg.append(rel[i] / np.log2(i + 2))\n",
    "    else:\n",
    "        dcg.append(dcg[i - 1] + rel[i] / np.log2(i + 2))\n",
    "\n",
    "idcg = []\n",
    "for i in range(len(ideal_rel)):\n",
    "    if i == 0:\n",
    "        idcg.append(ideal_rel[i] / np.log2(i + 2))\n",
    "    else:\n",
    "        idcg.append(idcg[i - 1] + ideal_rel[i] / np.log2(i + 2))\n",
    "        \n",
    "for i in range(len(rel)):\n",
    "    print(f\"ndcg@{i+1} = {dcg[i]/idcg[i]:.4f}\")"
   ]
  },
  {
   "cell_type": "code",
   "execution_count": null,
   "id": "ec4e1154",
   "metadata": {},
   "outputs": [],
   "source": []
  }
 ],
 "metadata": {
  "kernelspec": {
   "display_name": "Python 3 (ipykernel)",
   "language": "python",
   "name": "python3"
  },
  "language_info": {
   "codemirror_mode": {
    "name": "ipython",
    "version": 3
   },
   "file_extension": ".py",
   "mimetype": "text/x-python",
   "name": "python",
   "nbconvert_exporter": "python",
   "pygments_lexer": "ipython3",
   "version": "3.8.10"
  }
 },
 "nbformat": 4,
 "nbformat_minor": 5
}
